{
 "cells": [
  {
   "cell_type": "code",
   "execution_count": 2,
   "id": "872d0a9f",
   "metadata": {},
   "outputs": [],
   "source": [
    "import VMBQC_functions\n",
    "from VMBQC_functions import *"
   ]
  },
  {
   "cell_type": "code",
   "execution_count": 3,
   "id": "093500dc-339d-4ecc-a846-d201019ea92b",
   "metadata": {},
   "outputs": [
    {
     "data": {
      "text/plain": [
       "True"
      ]
     },
     "execution_count": 3,
     "metadata": {},
     "output_type": "execute_result"
    }
   ],
   "source": [
    "torch.cuda.is_available()"
   ]
  },
  {
   "cell_type": "code",
   "execution_count": 1,
   "id": "128dc661",
   "metadata": {},
   "outputs": [],
   "source": [
    "# Hyperparameters\n",
    "\n",
    "# Pennylane devices have inbuild command names \"shots\" which is number of samples for a specific circuit architecture\n",
    "N=10 # number of \"shots\"\n",
    "\n",
    "samples=20000 # Total number of samples from MBQC-CQCA (includes the \"shots\" for each circuit with different byproducts)\n",
    "\n",
    "runs=int(samples/N) # Number of times our model should run (at each of this \"runs\", the specific pennylane circuit provides N=10 \"shots\" / samples)\n",
    "\n",
    "qubits=8\n",
    "depth=7\n",
    "layers=depth"
   ]
  },
  {
   "cell_type": "code",
   "execution_count": 5,
   "id": "dd235cbc-d78d-49cf-a549-bdefab2a476c",
   "metadata": {},
   "outputs": [],
   "source": [
    "# definign inverse of our sigmoid function\n",
    "\n",
    "def inv_sigmoid(x):\n",
    "    return np.log(x/(1-x))"
   ]
  },
  {
   "cell_type": "code",
   "execution_count": 34,
   "id": "c5a84027-05c8-47f6-af80-6c96cf396a77",
   "metadata": {},
   "outputs": [
    {
     "data": {
      "image/png": "[encoded data removed]",
      "text/plain": [
       "<Figure size 640x480 with 1 Axes>"
      ]
     },
     "metadata": {},
     "output_type": "display_data"
    }
   ],
   "source": [
    "# Defining the mixed gaussian function and plotting with specific mean and varience\n",
    "\n",
    "def double_gaussian_pdf(num_bit, mu1,mu2, sigma):\n",
    "    '''get gaussian distribution function'''\n",
    "    x = np.arange(2**num_bit) # samples\n",
    "    pl = 1. / np.sqrt(2 * np.pi * sigma**2) * \\\n",
    "        (np.exp(-(x - mu1)**2 / (2. * sigma**2))+np.exp(-(x - mu2)**2 / (2. * sigma**2)))\n",
    "    return pl/pl.sum()\n",
    "\n",
    "\n",
    "pg = double_gaussian_pdf(qubits, 2*(2**qubits)/7, 5*(2**qubits)/7, (2**qubits)/8)\n",
    "plt.bar(range(2 ** qubits),pg)\n",
    "plt.show()"
   ]
  },
  {
   "cell_type": "code",
   "execution_count": 35,
   "id": "144ed1de",
   "metadata": {},
   "outputs": [],
   "source": [
    "# Here we build the fully corrected CQCA circuit which gives a pure state. \n",
    "\n",
    "dev = qml.device(\"default.qubit\", wires=qubits,shots=samples)\n",
    "\n",
    "@qml.qnode(dev)\n",
    "def eqv_circ_st(params):  \n",
    "    \n",
    "    p=params[:int(len(params)/2)] # probabilities\n",
    "    \n",
    "    t=params[len(p):] # thetas\n",
    "    \n",
    "    # Design of the fully corrected CQCA\n",
    "    \n",
    "    [qml.Hadamard(wires=q) for q in range(qubits)]\n",
    "    for l in range(depth): \n",
    "        \n",
    "        for q in range(qubits):\n",
    "            if q<qubits-1:\n",
    "                qml.CZ(wires=[q,q+1])\n",
    "        qml.CZ(wires=[0,qubits-1])    \n",
    "        for q in range(qubits):\n",
    "            qml.RZ(t[qubits*l+q],wires=q)\n",
    "            qml.Hadamard(wires=q)\n",
    "       \n",
    "            # qml.BitFlip((1-sigmoid(p[qubits*l+q]))/2,wires=q)\n",
    "    \n",
    "    return qml.sample()#qml.probs(wires=range(qubits))"
   ]
  },
  {
   "cell_type": "code",
   "execution_count": 36,
   "id": "c4399358-dbfa-46ff-a5b0-39b435e9bc21",
   "metadata": {},
   "outputs": [],
   "source": [
    "# Similar to the above cell we initialize our main model \\tilde{\\epsilon}_c with the hyperparameters\n",
    "model=VMBQC(qubits,layers,N)"
   ]
  },
  {
   "cell_type": "code",
   "execution_count": 37,
   "id": "63373587",
   "metadata": {},
   "outputs": [],
   "source": [
    "# def sample_circ(par):\n",
    "    \n",
    "#     binary_array = np.array(eqv_circ_st(par))\n",
    "#     #print(binary_array)\n",
    "#     powers_of_two = 2 ** np.arange(binary_array.shape[1])[::-1]\n",
    "#     decimal_array = np.sum(binary_array * powers_of_two, axis=1)\n",
    "#     decimal_list = decimal_array.tolist()\n",
    "    \n",
    "#     return decimal_list\n",
    "\n",
    "\n",
    "#####   For model 2\n",
    "\n",
    "'''\n",
    "Activate the below part when model \\tilde{\\epsilon}_c is in action and comment the part above to avoid any overlap and do the reverse if needed.\n",
    "'''\n",
    "# function to get a single (1) (or, N = shots) number of data sample(s) from a single run of CQCA with given correction probabilities (p)\n",
    "def get_samples_jl(runs, params):\n",
    "    arr=[]\n",
    "    p=params[:int(len(params)/2)] \n",
    "    t=params[len(p):] \n",
    "    \n",
    "    arr.append(model.corrected_machine_f2(p,t))\n",
    "    return np.concatenate(arr)\n",
    "\n",
    "\n",
    "# function to get m (e.g. \"runs=20000/10=2000\") number of data samples from our model\n",
    "def sample_circ(par):\n",
    "    \n",
    "    # usinf joblib to parallalize the process of generating sufficient samples\n",
    "    results = Parallel(n_jobs = 20)(delayed(get_samples_jl)(r, par) for r in range(runs))\n",
    "    s_a=list(itertools.chain.from_iterable(results))\n",
    "    binary_array = np.array(s_a)\n",
    "    #print(binary_array)\n",
    "    powers_of_two = 2 ** np.arange(binary_array.shape[1])[::-1]\n",
    "    decimal_array = np.sum(binary_array * powers_of_two, axis=1)\n",
    "    decimal_list = decimal_array.tolist()\n",
    "    \n",
    "    return decimal_list\n",
    "    "
   ]
  },
  {
   "cell_type": "code",
   "execution_count": 38,
   "id": "0188984c-7db0-4c6e-b18a-2586137b17a3",
   "metadata": {},
   "outputs": [],
   "source": [
    "# sampling from target distribution e.g. mixed gaussian\n",
    "def sample_target_function():\n",
    "    x=range(2**qubits)\n",
    "    ret = np.random.choice(x,samples,p=pg)\n",
    "    return ret.copy()"
   ]
  },
  {
   "cell_type": "code",
   "execution_count": 39,
   "id": "9d78cbcd-876a-4e89-913a-6aea8beeae73",
   "metadata": {},
   "outputs": [],
   "source": [
    "DEVICE = 'cuda' if torch.cuda.is_available() else 'cpu'"
   ]
  },
  {
   "cell_type": "code",
   "execution_count": 40,
   "id": "9bc8d4f4-61d5-4476-8321-077e5ce378b4",
   "metadata": {},
   "outputs": [],
   "source": [
    "# kernel function to calculate distance between two sample data points\n",
    "\n",
    "def kernel_exp_torch(s1,s2):\n",
    "    s1t = torch.tensor(s1, dtype = torch.float64).to(DEVICE)\n",
    "    s2t = torch.tensor(s2, dtype = torch.float64).to(DEVICE)\n",
    "    d1 = s1t.size(-1)\n",
    "    d2 = s2t.size(-1)\n",
    "    s1t = s1t.reshape([1,-1,1])\n",
    "    s2t = s2t.reshape([1,-1,1])\n",
    "    \n",
    "    diffsquared = (torch.cdist(s1t,s2t,p=2.0).to(DEVICE))**2\n",
    "\n",
    "    sigma_list=[0.5,4]\n",
    "    exp = 0.0\n",
    "    for sigma in sigma_list:\n",
    "        expMatrix = torch.exp(diffsquared/(-2.0*sigma)).to(DEVICE)\n",
    "        expMatrix = expMatrix/(len(sigma_list)*d1*d2)\n",
    "        exp = exp + torch.sum(expMatrix).to(DEVICE)\n",
    "        \n",
    "    return exp"
   ]
  },
  {
   "cell_type": "code",
   "execution_count": 41,
   "id": "95b17cf9",
   "metadata": {},
   "outputs": [],
   "source": [
    "def mmd_loss(params):\n",
    "    \n",
    "    s2=sample_target_function()\n",
    "    s1=sample_circ(params)\n",
    "    res=kernel_exp_torch(s1,s1)-2*kernel_exp_torch(s1,s2)+kernel_exp_torch(s2,s2)\n",
    "    return res.detach().cpu().numpy()\n"
   ]
  },
  {
   "cell_type": "code",
   "execution_count": 42,
   "id": "b637203e",
   "metadata": {},
   "outputs": [],
   "source": [
    "# Gradient for correction probabilities stated in eq. 17 of: https://arxiv.org/pdf/2310.13524.pdf\n",
    "\n",
    "def mmd_grad_p_new(params):\n",
    "    p=params[:qubits*depth]\n",
    "    thetas=params[len(p):]\n",
    "    grad = torch.zeros(len(p)).to(DEVICE)\n",
    "    \n",
    "    \n",
    "    \n",
    "    sample_targ=sample_target_function()\n",
    "    \n",
    "    for i in range(len(p)):\n",
    "        \n",
    "        sample_y = sample_circ(params) ###############  eqv_circ_st(params)\n",
    "        \n",
    "        a=p[i].copy()\n",
    "        inner_derivative = (sigmoid(torch.tensor(a))**2)*torch.exp(-torch.tensor(a))\n",
    "        \n",
    "        p[i]=torch.tensor(100.0).numpy()\n",
    "        \n",
    "        sample_x_1 = sample_circ(params) ###############  eqv_circ_st(params)\n",
    "       \n",
    "        \n",
    "        p[i]=torch.tensor(-100.0).numpy()\n",
    "        \n",
    "        sample_x_0 = sample_circ(params) ###############  eqv_circ_st(params)\n",
    "        \n",
    "        \n",
    "        grad[i]=2*(kernel_exp_torch(sample_y,sample_x_1)-kernel_exp_torch(sample_y,sample_x_0)) - 2*(kernel_exp_torch(sample_targ,sample_x_1)-kernel_exp_torch(sample_targ,sample_x_0))\n",
    "        grad[i]= grad[i]*inner_derivative\n",
    "        p[i]=a\n",
    "        #if i == 0:\n",
    "        #    print(params[:int(len(params)/2)])\n",
    "\n",
    "        \n",
    "    return grad\n",
    "    \n",
    "    \n",
    "    \n",
    "# Gradient for variational parameters \\thetas stated in eq. 16 of: https://arxiv.org/pdf/2310.13524.pdf\n",
    "    \n",
    "def mmd_grad_theta(params):\n",
    "    p=params[:qubits*depth]\n",
    "    thetas=params[len(p):]\n",
    "    prob = sample_circ(params)\n",
    "    grad = torch.zeros(len(thetas)).to(DEVICE)\n",
    "    \n",
    "    for i in range(len(thetas)):\n",
    "        # pi/2 phase\n",
    "        thetas[i] += np.pi/2.\n",
    "        prob_pos = sample_circ(params) # p_{theta}^{+}\n",
    "        # -pi/2 phase\n",
    "        thetas[i] -= np.pi\n",
    "        prob_neg = sample_circ(params) # p_{theta}^{-}\n",
    "        \n",
    "        t1=kernel_exp_torch(prob, prob_pos)\n",
    "        \n",
    "        t2=kernel_exp_torch(prob, prob_neg)\n",
    "\n",
    "        t3=kernel_exp_torch(sample_target_function(), prob_pos)\n",
    "        \n",
    "        t4=kernel_exp_torch(sample_target_function(), prob_neg)\n",
    "\n",
    "        \n",
    "        grad_pos = t1 - t2\n",
    "        grad_neg = t3 - t4\n",
    "        grad[i] = (grad_pos - grad_neg).detach().cpu()\n",
    "        \n",
    "        thetas[i] += np.pi/2.0 #reset to original value\n",
    "        \n",
    "    return grad\n",
    "\n",
    "\n",
    "# combined gradient of both sets of parameters\n",
    "\n",
    "def mmd_grad(params):\n",
    "    #probs=params[:int(len(params)/2)]\n",
    "    #thetas=params[len(probs):]\n",
    "    grad=torch.cat((mmd_grad_p_new(params),mmd_grad_theta(params)))\n",
    "    return grad"
   ]
  },
  {
   "cell_type": "code",
   "execution_count": 43,
   "id": "0050ee75-718d-4112-bb58-8615e6adafa7",
   "metadata": {},
   "outputs": [
    {
     "data": {
      "text/plain": [
       "\"\\nimport torch\\nimport gc\\nfor obj in gc.get_objects():\\n    try:\\n        if torch.is_tensor(obj) or (hasattr(obj, 'data') and torch.is_tensor(obj.data)):\\n            print(obj.shape, type(obj), obj.size(), obj.device)\\n    except:\\n        pass\\n\""
      ]
     },
     "execution_count": 43,
     "metadata": {},
     "output_type": "execute_result"
    }
   ],
   "source": [
    "'''\n",
    "import torch\n",
    "import gc\n",
    "for obj in gc.get_objects():\n",
    "    try:\n",
    "        if torch.is_tensor(obj) or (hasattr(obj, 'data') and torch.is_tensor(obj.data)):\n",
    "            print(obj.shape, type(obj), obj.size(), obj.device)\n",
    "    except:\n",
    "        pass\n",
    "'''"
   ]
  },
  {
   "cell_type": "code",
   "execution_count": 44,
   "id": "40a647fb-f4a0-4302-be13-14d10281e29c",
   "metadata": {},
   "outputs": [],
   "source": [
    "#torch.cuda.empty_cache()"
   ]
  },
  {
   "cell_type": "code",
   "execution_count": 45,
   "id": "0736044e-442f-4e2d-81dd-4546c52b3336",
   "metadata": {},
   "outputs": [],
   "source": [
    "#import gc\n",
    "\n",
    "#gc.collect()\n",
    "#torch.cuda.empty_cache()\n"
   ]
  },
  {
   "cell_type": "code",
   "execution_count": 46,
   "id": "57bad1cf-5698-4239-a845-29bbd4ae71fe",
   "metadata": {},
   "outputs": [],
   "source": [
    "# algorithm for gradient descent copied from : https://docs.pennylane.ai/en/stable/code/api/pennylane.GradientDescentOptimizer.html\n",
    "\n",
    "# We rewrote the algorithm with our approximate gradient calculated from samples instead of using the in-built exact gradient \n",
    "\n",
    "class GradientDescentOptimizer_mmd_2:  \n",
    "    def __init__(self, stepsize): # if some value is given here itself then it will become a by default value\n",
    "        self.stepsize = stepsize\n",
    "\n",
    "    def step_and_cost(self, objective_fn, *args, grad_fn=None, **kwargs):\n",
    "        \n",
    "        g, forward = self.compute_grad(objective_fn, args, kwargs, grad_fn=grad_fn)\n",
    "        new_args = self.apply_grad(g, args)\n",
    "\n",
    "        if forward is None:\n",
    "            forward = objective_fn(*args, **kwargs)\n",
    "\n",
    "        # unwrap from list if one argument, cleaner return\n",
    "        if len(new_args) == 1:\n",
    "            return new_args[0], forward\n",
    "        return new_args, forward\n",
    "\n",
    "\n",
    "    def step(self, objective_fn, *args, train, grad_fn=None, **kwargs):\n",
    "        \n",
    "        p_len=int(len(args[0])/2)\n",
    "        if train=='p':\n",
    "            arg1=args[0][:int(len(args[0])/2)]\n",
    "        else:\n",
    "            arg1=args[0][int(len(args[0])/2):]\n",
    "        \n",
    "        g= self.compute_grad(objective_fn, args, kwargs, grad_fn=grad_fn)\n",
    "        new_args = self.apply_grad(g, arg1,args,train)\n",
    "\n",
    "        # unwrap from list if one argument, cleaner return\n",
    "        if len(new_args) == 1:\n",
    "            return new_args[0]\n",
    "\n",
    "        return new_args\n",
    "\n",
    "    @staticmethod\n",
    "    def compute_grad(objective_fn, args, kwargs, grad_fn=None):\n",
    "       \n",
    "        \n",
    "        grad = mmd_grad(*args).detach().cpu().numpy()\n",
    "        \n",
    "\n",
    "        num_trainable_args = sum(getattr(arg, \"requires_grad\", False) for arg in args)\n",
    "        grad = (grad,) if num_trainable_args == 1 else grad\n",
    "        #print('grads--',grad[0])\n",
    "        return grad\n",
    "\n",
    "\n",
    "    def apply_grad(self, grad, arg1,args,train):\n",
    "        \n",
    "        #print('arg1--',arg1)#################\n",
    "        args_new = list(arg1)\n",
    "        \n",
    "        if train=='p':\n",
    "\n",
    "            trained_index = 0\n",
    "            for index, arg in enumerate(arg1):\n",
    "\n",
    "                if getattr(arg, \"requires_grad\", False):\n",
    "                    args_new[index] = arg - self.stepsize * grad[0][trained_index]\n",
    "\n",
    "                    trained_index += 1\n",
    "        else:\n",
    "            trained_index = p_len ########## need to be generalized\n",
    "            for index, arg in enumerate(arg1):\n",
    "                if getattr(arg, \"requires_grad\", False):\n",
    "                    args_new[index] = arg - self.stepsize * grad[0][trained_index]\n",
    "\n",
    "                    trained_index += 1\n",
    "            \n",
    "        \n",
    "        #print('new args-->',args_new[0])#############\n",
    "        \n",
    "        if train=='p':\n",
    "            return np.concatenate([args_new,args[0][len(args_new):]])\n",
    "        else:\n",
    "            return np.concatenate([args[0][:len(args_new)],args_new]) # here we can do this only because the they have same size\n",
    "        "
   ]
  },
  {
   "cell_type": "code",
   "execution_count": 47,
   "id": "d6ecb43e-fdaa-4a89-a959-6fef65ae3889",
   "metadata": {},
   "outputs": [],
   "source": [
    "# We use parts the above above algorithm to finally use the Adagrad optimization algorithm below to update our tunable parameters\n",
    "\n",
    "from pennylane.numpy import sqrt\n",
    "class AdagradOptimizer_mmd_2(GradientDescentOptimizer_mmd_2):\n",
    "    \n",
    "\n",
    "    def __init__(self, stepsize=0.01, eps=1e-8):\n",
    "        super().__init__(stepsize)\n",
    "        self.eps = eps\n",
    "        self.accumulation = None\n",
    "\n",
    "    def apply_grad(self, grad, arg1, args, train):\n",
    "        \n",
    "        p_len=int(len(args[0])/2)\n",
    "        args_new = list(arg1)\n",
    "\n",
    "        if self.accumulation is None:\n",
    "            self.accumulation = [0.0] * len(arg1)\n",
    "            \n",
    "        if train=='p':\n",
    "\n",
    "            trained_index = 0\n",
    "            for index, arg in enumerate(arg1):\n",
    "                if getattr(arg, \"requires_grad\", False):\n",
    "                    \n",
    "\n",
    "                    self._update_accumulation(index, grad[0][trained_index])\n",
    "\n",
    "                    coeff = self.stepsize / sqrt(self.accumulation[index] + self.eps)\n",
    "                    args_new[index] = arg - coeff * grad[0][trained_index]\n",
    "\n",
    "                    trained_index += 1\n",
    "                    \n",
    "        else:\n",
    "            \n",
    "            trained_index = p_len # need to be generalized\n",
    "            \n",
    "            for index, arg in enumerate(arg1):\n",
    "                if getattr(arg, \"requires_grad\", False):\n",
    "                    \n",
    "\n",
    "                    self._update_accumulation(index, grad[0][trained_index])\n",
    "\n",
    "                    coeff = self.stepsize / sqrt(self.accumulation[index] + self.eps)\n",
    "                    args_new[index] = arg - coeff * grad[0][trained_index]\n",
    "\n",
    "                    trained_index += 1\n",
    "            \n",
    "            \n",
    "\n",
    "        if train=='p':\n",
    "            return np.concatenate([args_new,args[0][len(args_new):]])\n",
    "        else:\n",
    "            return np.concatenate([args[0][:len(args_new)],args_new])\n",
    "\n",
    "\n",
    "    def _update_accumulation(self, index, grad):\n",
    "        \n",
    "        self.accumulation[index] = self.accumulation[index] + grad**2\n",
    "\n",
    "    def reset(self):\n",
    "        \n",
    "        self.accumulation = None"
   ]
  },
  {
   "cell_type": "code",
   "execution_count": 48,
   "id": "c3f2e0d1",
   "metadata": {},
   "outputs": [],
   "source": [
    "def cost(par):\n",
    "\n",
    "    c=mmd_loss(par) \n",
    "    return c"
   ]
  },
  {
   "cell_type": "code",
   "execution_count": 76,
   "id": "57e521ed-4612-43cd-9898-9a676e382a48",
   "metadata": {},
   "outputs": [],
   "source": [
    "# params_arr2=np.loadtxt('target learned by Cf params 1.txt')\n",
    "# cost_arr2=np.loadtxt('target learned by Cf cost 1.txt')"
   ]
  },
  {
   "cell_type": "code",
   "execution_count": 77,
   "id": "53e61a52-5484-4622-ba64-13b1ca94f4ee",
   "metadata": {},
   "outputs": [],
   "source": [
    "# p_test=params_arr2[-1]"
   ]
  },
  {
   "cell_type": "code",
   "execution_count": 78,
   "id": "eafd04e4-f7cc-488b-8b7e-98b40b5f2c30",
   "metadata": {},
   "outputs": [],
   "source": [
    "# s=time.time()\n",
    "# f_s_t=plt.hist(sample_circ(p_test),bins=2**qubits)\n",
    "# e=time.time()\n",
    "# print(e-s,'sec')"
   ]
  },
  {
   "cell_type": "code",
   "execution_count": 79,
   "id": "41dd2c94-ebe7-4fd1-adaf-b425243e3cb8",
   "metadata": {},
   "outputs": [],
   "source": [
    "# pg2=f_s_t[0]/(samples)"
   ]
  },
  {
   "cell_type": "code",
   "execution_count": 80,
   "id": "a5a8f713-c72d-4a37-be9c-c16da592c3f2",
   "metadata": {},
   "outputs": [],
   "source": [
    "# np.sum(pg2)"
   ]
  },
  {
   "cell_type": "code",
   "execution_count": 81,
   "id": "bce07b34-f4b3-475a-8107-aa43318478cd",
   "metadata": {},
   "outputs": [],
   "source": [
    "# plt.plot(range(2 ** qubits),pg,color='black')\n",
    "# plt.bar(range(2 ** qubits),pg2,color='dodgerblue')\n",
    "# plt.xlim(0,255)\n",
    "# plt.show()"
   ]
  },
  {
   "cell_type": "code",
   "execution_count": 2,
   "id": "6df2d0ca-238e-4c70-a26d-f5ed2758fdbe",
   "metadata": {},
   "outputs": [],
   "source": [
    "# p2=np.random.uniform((1-2/(qubits*depth)),1,qubits*depth)# probabilities with which we are going to \n",
    "# t2=np.random.rand(qubits*depth)\n",
    "# init_p=np.concatenate([inv_sigmoid(p2),t2], requires_grad=True)\n",
    "# cost(init_p)"
   ]
  },
  {
   "cell_type": "code",
   "execution_count": 49,
   "id": "2c4b997b-fb09-4fbb-96d7-d7adc8df7560",
   "metadata": {},
   "outputs": [],
   "source": [
    "def sigmoid(x):\n",
    "    return 1/(1+np.exp(-x))"
   ]
  },
  {
   "cell_type": "code",
   "execution_count": 55,
   "id": "04cbd72a-85f2-40e2-a0bd-456f05ac1c93",
   "metadata": {},
   "outputs": [],
   "source": [
    "cost_arr=[]\n",
    "params_arr=[]\n",
    "# params_arr2=np.loadtxt('target learned 7 layers by C params.txt')"
   ]
  },
  {
   "cell_type": "code",
   "execution_count": null,
   "id": "24decded-3b12-4a03-9c9d-b2b5537f7350",
   "metadata": {
    "scrolled": true,
    "tags": []
   },
   "outputs": [],
   "source": [
    "runs_2=1\n",
    "iterations=199  # next time if run the same experiment for more agents then iterations=199\n",
    "\n",
    "for r in range(runs_2):\n",
    "    opt1 = AdagradOptimizer_mmd_2(stepsize=0.4)\n",
    "    opt2 = AdagradOptimizer_mmd_2(stepsize=0.1)\n",
    "    p2=np.random.uniform(.9,1,qubits*depth)# probabilities with which we are going to \n",
    "    t2=np.random.rand(qubits*depth)\n",
    "    init_p=np.concatenate([inv_sigmoid(p2),t2], requires_grad=True)\n",
    "    params=init_p\n",
    "    \n",
    "    cost_arr.append(cost(init_p))\n",
    "    params_arr.append(init_p)\n",
    "    \n",
    "\n",
    "    current_cost=[]\n",
    "    \n",
    "    for i in range(iterations):\n",
    "\n",
    "\n",
    "        start=time.time()\n",
    "        params = opt1.step(cost, params,train='p')\n",
    "        params = opt2.step(cost, params,train='t')\n",
    "        end=time.time()\n",
    "        current_cost.append(cost(params))\n",
    "        cost_arr.append(current_cost[i])\n",
    "        \n",
    "\n",
    "        params_arr.append(params)\n",
    "        #params_arr_tot_2.append(params)\n",
    "\n",
    "        if i % 1 == 0:\n",
    "            print(f\"Cost at step {i}:\", current_cost[i],f'of run:{r}')\n",
    "            print('time taken-->',(end-start)/60,'min')\n"
   ]
  },
  {
   "cell_type": "code",
   "execution_count": 62,
   "id": "47cfa137-6acf-4636-a968-483c5c2e708e",
   "metadata": {},
   "outputs": [
    {
     "data": {
      "text/plain": [
       "200"
      ]
     },
     "execution_count": 62,
     "metadata": {},
     "output_type": "execute_result"
    }
   ],
   "source": [
    "len(params_arr)"
   ]
  },
  {
   "cell_type": "code",
   "execution_count": 90,
   "id": "fe053a1c-6163-42de-ac8c-fc4cd8e3327e",
   "metadata": {},
   "outputs": [
    {
     "name": "stdout",
     "output_type": "stream",
     "text": [
      "4.340779781341553 sec\n"
     ]
    },
    {
     "data": {
      "image/png": "[encoded data removed]",
      "text/plain": [
       "<Figure size 640x480 with 1 Axes>"
      ]
     },
     "metadata": {},
     "output_type": "display_data"
    }
   ],
   "source": [
    "s=time.time()\n",
    "f_s_t=plt.hist(sample_circ(params_arr[178]),bins=2**qubits)\n",
    "e=time.time()\n",
    "print(e-s,'sec')"
   ]
  },
  {
   "cell_type": "code",
   "execution_count": 91,
   "id": "c439e5f5-3fb9-43e3-87df-168a0359c091",
   "metadata": {},
   "outputs": [],
   "source": [
    "pg2=f_s_t[0]/(samples)"
   ]
  },
  {
   "cell_type": "code",
   "execution_count": 92,
   "id": "1ce4b425-bb8e-4e3b-b256-7b61aeab2d6d",
   "metadata": {},
   "outputs": [
    {
     "data": {
      "image/png": "[encoded data removed]",
      "text/plain": [
       "<Figure size 640x480 with 1 Axes>"
      ]
     },
     "metadata": {},
     "output_type": "display_data"
    }
   ],
   "source": [
    "plt.plot(range(2 ** qubits),pg,color='black')\n",
    "plt.bar(range(2 ** qubits),pg2,color='dodgerblue')\n",
    "plt.xlim(0,255)\n",
    "plt.show()"
   ]
  },
  {
   "cell_type": "code",
   "execution_count": 142,
   "id": "2bb434d3-eefa-4327-b82b-1d4f03d8b247",
   "metadata": {
    "tags": []
   },
   "outputs": [
    {
     "name": "stderr",
     "output_type": "stream",
     "text": [
      "/tmp/ipykernel_293387/1749553359.py:5: UserWarning: color is redundantly defined by the 'color' keyword argument and the fmt string \"k\" (-> color=(0.0, 0.0, 0.0, 1)). The keyword argument will take precedence.\n",
      "  ax.semilogy(x, y, 'k', color='navy',label='$C_{f}$')\n"
     ]
    },
    {
     "data": {
      "image/png": "[encoded data removed]",
      "text/plain": [
       "<Figure size 640x480 with 1 Axes>"
      ]
     },
     "metadata": {},
     "output_type": "display_data"
    }
   ],
   "source": [
    "fig, ax = plt.subplots()\n",
    "x=np.linspace(0,len(ave_cost),len(ave_cost))\n",
    "y=ave_cost\n",
    "yerr=std\n",
    "ax.semilogy(x, y, 'k', color='navy',label='$C_{f}$')\n",
    "ax.fill_between(x, np.array(y)+np.array(yerr),np.array(y)+(-1)*np.array(yerr),\n",
    "    alpha=0.5, edgecolor='dodgerblue', facecolor='dodgerblue')\n",
    "plt.show()"
   ]
  },
  {
   "cell_type": "code",
   "execution_count": null,
   "id": "d061afeb-2f80-44fd-a1e8-da61f11661d5",
   "metadata": {},
   "outputs": [],
   "source": []
  },
  {
   "cell_type": "code",
   "execution_count": 272,
   "id": "8df86b6e-26ef-451d-8717-5b4afc024f17",
   "metadata": {},
   "outputs": [],
   "source": [
    "\n",
    "import gc\n",
    "\n",
    "mmd_grad(params).cpu()\n",
    "del mmd_grad\n",
    "gc.collect()\n",
    "torch.cuda.empty_cache()\n"
   ]
  },
  {
   "cell_type": "code",
   "execution_count": null,
   "id": "9cc2b87d-e571-473d-98d1-7a0c0bd61393",
   "metadata": {},
   "outputs": [],
   "source": []
  }
 ],
 "metadata": {
  "kernelspec": {
   "display_name": "Python 3 (ipykernel)",
   "language": "python",
   "name": "python3"
  },
  "language_info": {
   "codemirror_mode": {
    "name": "ipython",
    "version": 3
   },
   "file_extension": ".py",
   "mimetype": "text/x-python",
   "name": "python",
   "nbconvert_exporter": "python",
   "pygments_lexer": "ipython3",
   "version": "3.11.5"
  }
 },
 "nbformat": 4,
 "nbformat_minor": 5
}
